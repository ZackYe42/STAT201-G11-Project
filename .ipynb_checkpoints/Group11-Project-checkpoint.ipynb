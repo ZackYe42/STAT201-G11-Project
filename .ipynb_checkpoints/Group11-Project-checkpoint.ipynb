{
 "cells": [
  {
   "cell_type": "markdown",
   "id": "5bf6d16c-34f0-473c-b910-a2a67bd40797",
   "metadata": {
    "tags": []
   },
   "source": [
    "# Difference in Average Air Quality in Mornings and Nights in an Italian City"
   ]
  },
  {
   "cell_type": "markdown",
   "id": "6c242d41-bf2a-4731-882f-f46110c9a6fd",
   "metadata": {},
   "source": [
    "## 1. Introduction"
   ]
  },
  {
   "cell_type": "markdown",
   "id": "7f7503c2-d9e4-4cc6-9e86-98de49899404",
   "metadata": {},
   "source": [
    "Air pollution is one of the leading causes of a number of adverse health problems. Measuring air quality in urban areas is important for regulating outdoor activities and preserving a healthy lifestyle. Air quality is measured through different sensors that detect pollutants and particles in the air. Based on this detection, the air quality is placed on an AQI that ranges from 0-500, or “good” to “hazardous” air quality (Lemeš, 2018) . On a daily basis, the air quality varies with a surge in activities that induce more air pollution, such as intense traffic during rush hour (Trozzi et al., 1999). \n",
    "\n",
    "This begs us to ask the question: **How do the summarized sensor response used to determine air quality index differ between mornings and nights in an Italian city from 2004 to 2005?**\n",
    "\n",
    "For our research, we are using the dataset <a href=\"https://archive.ics.uci.edu/dataset/360/air+quality\">Air Quality</a> from the UCI machine learning repository, which we have stored in a separate GitHub repository. It contains responses to gas and particle sensors placed in a highly polluted area of an Italian city. This data was collected from 2004-2005 and depicts 9348 observations of hourly averaged concentrations of different chemical air pollutants at that point in time. For the purpose of our research, we are taking the readings from the first month and removing cases with missing data. Our variables of interest are the ```date```, ```time```, and the hourly averaged sensor response columns of ``` PT08.S1``` targetting carbon monoxide, ```PT08.S2``` targetting non-metallic hydrocarbons, ``` PT08.S3``` targetting NO<sub>x</sub> , ```PT08.S4``` targetting NO<sub>2</sub>, and ```PT08.S5``` targetting O<sub>3</sub>."
   ]
  },
  {
   "cell_type": "markdown",
   "id": "983bb10a-79ea-47ba-9a6c-e63cce51f713",
   "metadata": {},
   "source": [
    "## 2. Preliminary Results"
   ]
  },
  {
   "cell_type": "markdown",
   "id": "7c5eb8e7-5a58-4911-ba70-0536bc4772ed",
   "metadata": {},
   "source": [
    "### 2.1. Loading the relevant libraries"
   ]
  },
  {
   "cell_type": "code",
   "execution_count": null,
   "id": "802f1fdf-53e9-401e-b0f9-5156ad97cd98",
   "metadata": {},
   "outputs": [],
   "source": [
    "library(dplyr)\n",
    "library(tidyr)\n",
    "library(lubridate)\n",
    "library(ggplot2)\n",
    "library(tidyverse)\n",
    "library(broom)\n",
    "library(infer)"
   ]
  },
  {
   "cell_type": "markdown",
   "id": "44a48065-aa8f-46eb-b72a-b12f3c807d5a",
   "metadata": {},
   "source": [
    "### 2.2. Reading the dataset from the web"
   ]
  },
  {
   "cell_type": "markdown",
   "id": "56778667-1947-4268-89d3-98edbb18e2aa",
   "metadata": {},
   "source": [
    "Using the read.csv function, we first start by reading in our data from the web."
   ]
  },
  {
   "cell_type": "code",
   "execution_count": null,
   "id": "7629dd9d-f862-4fbe-87f2-c3d340aef3e1",
   "metadata": {},
   "outputs": [],
   "source": [
    "set.seed(1111)\n",
    "\n",
    "# URL of the raw CSV file on GitHub\n",
    "url <- \"https://raw.githubusercontent.com/anandkaranubc/aqi_dataset/main/AirQualityUCI.csv\"\n",
    "\n",
    "# Read the dataset into R from the web\n",
    "air_quality <- read.csv(url, sep = \";\", header = TRUE, na.strings = \"-200\")\n",
    "\n",
    "# View the first few rows of the dataset\n",
    "head(air_quality)\n"
   ]
  },
  {
   "cell_type": "markdown",
   "id": "7129146a-ff62-409c-988a-36f3f0d02049",
   "metadata": {},
   "source": [
    "### 2.3 Cleaning and wrangling the data into a tidy format"
   ]
  },
  {
   "cell_type": "markdown",
   "id": "3553ac79-0faf-4e04-ab87-ac0414641803",
   "metadata": {},
   "source": [
    "Next, we clean and wrangle the data by renaming the columns to more readable and descriptive labels, and recoding the necessary data to its proper formatting. We also filter the data to only include sensor responses from March 10, 2004 to April 9, 2004, this is to minimize the number of data points we are analyzing while still yielding accurate results."
   ]
  },
  {
   "cell_type": "code",
   "execution_count": null,
   "id": "00968195-8498-4889-b6d4-da0234411afc",
   "metadata": {},
   "outputs": [],
   "source": [
    "set.seed(1111)\n",
    "\n",
    "# Clean the data: Convert commas to dots for numeric columns, remove unwanted columns (X, X.1), and remove NA columns\n",
    "air_quality_cleaned <- air_quality |>\n",
    "  mutate_at(vars(-Date, -Time), ~as.numeric(gsub(\",\", \".\", .))) |>\n",
    "  select(-X, -X.1)\n",
    "\n",
    "# Convert Date and Time columns to proper formats\n",
    "air_quality_cleaned$Date <- as.Date(air_quality_cleaned$Date, format = \"%d/%m/%Y\")\n",
    "air_quality_cleaned$Time <- as.POSIXct(air_quality_cleaned$Time, format = \"%H.%M.%S\")\n",
    "\n",
    "air_quality_cleaned <- air_quality_cleaned %>%\n",
    "    filter(Date >= '2004-03-10' & Date <= '2004-04-09')\n",
    "\n",
    "# Rename the column names to more descriptive names\n",
    "col_names <- c(\"Date\", \"Time\", \"CO_Concentration\", \"PT08_S1_CO_Sensor\", \"NMHC_Concentration\",\n",
    "               \"C6H6_Concentration\", \"PT08_S2_NMHC_Sensor\", \"NOx_Concentration\", \"PT08_S3_NOx_Sensor\",\n",
    "               \"NO2_Concentration\", \"PT08_S4_NO2_Sensor\", \"PT08_S5_O3_Sensor\", \"Temperature\", \"Relative_Humidity\", \"Absolute_Humidity\")\n",
    "\n",
    "colnames(air_quality_cleaned) <- col_names\n"
   ]
  },
  {
   "cell_type": "code",
   "execution_count": null,
   "id": "29fe6583-1733-44ab-b48f-d16d97af6ac5",
   "metadata": {},
   "outputs": [],
   "source": [
    "head(air_quality_cleaned)\n",
    "tail(air_quality_cleaned)"
   ]
  },
  {
   "cell_type": "markdown",
   "id": "6cd2f47d-577e-493b-93d0-c9f341cd69e6",
   "metadata": {},
   "source": [
    "### 2.4 Plotting relevant data"
   ]
  },
  {
   "cell_type": "markdown",
   "id": "9c7e9c9f-711a-4803-9078-8f24da5dd367",
   "metadata": {},
   "source": [
    "Here, we begin plotting the data relevant to our research question, starting with the hourly averaged sensor response, using built in R plotting functions (ggplot, geom_histogram) and creating histograms for each of the different chemical sensors. We also utilize the facet_wrap function in order to separate the different plots per sensor."
   ]
  },
  {
   "cell_type": "code",
   "execution_count": null,
   "id": "77421580-b4b7-467e-9e90-ff8d7dce7347",
   "metadata": {},
   "outputs": [],
   "source": [
    "set.seed(1111)\n",
    "\n",
    "print(\"Plot 1: Hourly Averaged Sensor Responses\")\n",
    "\n",
    "# Pivot the data to long format for ggplot\n",
    "air_quality_melted <- pivot_longer(air_quality_cleaned, \n",
    "                                   cols = starts_with(\"PT08_S\"), \n",
    "                                   names_to = \"Sensor\",\n",
    "                                   values_to = \"Sensor_Response\")\n",
    "\n",
    "# Create the plot\n",
    "air_quality_sensor_plots <- ggplot(air_quality_melted, aes(x = Sensor_Response, fill = Sensor)) +\n",
    "  geom_histogram(binwidth = 50, position = \"dodge\") +\n",
    "  labs(title = \"Hourly Averaged Sensor Responses\",\n",
    "       x = \"Sensor Response\",\n",
    "       y = \"Frequency\",\n",
    "       fill = \"Sensor\") +\n",
    "  scale_fill_manual(values = c(\"PT08_S1_CO_Sensor\" = \"blue\", \"PT08_S2_NMHC_Sensor\" = \"green\", \n",
    "                                \"PT08_S3_NOx_Sensor\" = \"orange\", \"PT08_S4_NO2_Sensor\" = \"red\",\n",
    "                                \"PT08_S5_O3_Sensor\" = \"purple\")) +\n",
    "  theme_minimal() +\n",
    "  theme(\n",
    "    axis.text.x = element_text(angle = 45, hjust = 1),\n",
    "    axis.text.y = element_text(size = 10),  # Adjust the size of y-axis labels\n",
    "    axis.title.y = element_text(size = 12),  # Adjust the size of y-axis title\n",
    "    plot.title = element_text(size = 16, face = \"bold\"),\n",
    "    legend.text = element_text(size = 12),\n",
    "    legend.title = element_text(size = 14),\n",
    "    legend.position = \"bottom\"\n",
    "  ) +\n",
    "  scale_x_continuous(breaks = seq(0, 2500, by = 500))  # Adjust the x-axis tick marks\n",
    "\n",
    "# Separate plots for each sensor using facets\n",
    "air_quality_sensor_plots_faceted <- air_quality_sensor_plots + \n",
    "  facet_wrap(~ Sensor, nrow = 5)\n",
    "\n",
    "air_quality_sensor_plots_faceted\n"
   ]
  },
  {
   "cell_type": "markdown",
   "id": "9215444b-10c5-400b-a472-1a7fdd4b783d",
   "metadata": {},
   "source": [
    "In the next plot, we continue plotting the hourly averaged sensor response, again using built in R plot function (ggplot, geom_boxplot) and creating a boxplot to represent the same sensor data in a different format."
   ]
  },
  {
   "cell_type": "code",
   "execution_count": null,
   "id": "cf74f5f0-9a2a-4288-a2e4-4b26417b793b",
   "metadata": {},
   "outputs": [],
   "source": [
    "set.seed(1111)\n",
    "\n",
    "print(\"Plot 2: Box Plot of Hourly Averaged Sensor Responses\")\n",
    "\n",
    "\n",
    "# Create the box plot\n",
    "air_quality_boxplot <- ggplot(air_quality_melted, aes(x = Sensor, y = Sensor_Response, fill = Sensor)) +\n",
    "  geom_boxplot() +\n",
    "  labs(title = \"Box Plot of Sensor Responses\",\n",
    "       x = \"Sensor\",\n",
    "       y = \"Sensor Response\",\n",
    "       fill = \"Sensor\") +\n",
    "  scale_fill_manual(values = c(\"PT08_S1_CO_Sensor\" = \"blue\", \"PT08_S2_NMHC_Sensor\" = \"green\", \n",
    "                               \"PT08_S3_NOx_Sensor\" = \"orange\", \"PT08_S4_NO2_Sensor\" = \"red\",\n",
    "                               \"PT08_S5_O3_Sensor\" = \"purple\")) +\n",
    "  theme_minimal() +\n",
    "  theme(\n",
    "    axis.text.x = element_text(angle = 45, hjust = 1),\n",
    "    axis.text.y = element_text(size = 10),  # Adjust the size of y-axis labels\n",
    "    axis.title.y = element_text(size = 12),  # Adjust the size of y-axis title\n",
    "    plot.title = element_text(size = 16, face = \"bold\"),\n",
    "    legend.text = element_text(size = 12),\n",
    "    legend.title = element_text(size = 14),\n",
    "    legend.position = \"bottom\"\n",
    "  )\n",
    "\n",
    "# Print the box plot\n",
    "print(air_quality_boxplot)"
   ]
  },
  {
   "cell_type": "markdown",
   "id": "aa4e5360-af56-4fad-a51a-2b201feef96c",
   "metadata": {},
   "source": [
    "Next, we create a dataset of the sensor responses, grouped by the different chemical sensor. This dataset displays the summary statistics of each of the sensors."
   ]
  },
  {
   "cell_type": "code",
   "execution_count": null,
   "id": "339c4b03-9ba9-45ed-b9af-d3d197f346fb",
   "metadata": {},
   "outputs": [],
   "source": [
    "set.seed(1111)\n",
    "\n",
    "\n",
    "print(\"Table 1: Summary Statistics of Each Sensor Responses\")\n",
    "\n",
    "# Group the data by \"Sensor\" and calculate summary statistics\n",
    "sensor_summary <- air_quality_melted %>%\n",
    "  group_by(Sensor) %>%\n",
    "  summarize(\n",
    "    Mean_Sensor_Response = mean(Sensor_Response, na.rm = TRUE),\n",
    "    Median_Sensor_Response = median(Sensor_Response, na.rm = TRUE),\n",
    "    SD_Sensor_Response = sd(Sensor_Response, na.rm = TRUE),\n",
    "    Min_Sensor_Response = min(Sensor_Response, na.rm = TRUE),\n",
    "    Max_Sensor_Response = max(Sensor_Response, na.rm = TRUE)\n",
    "  )\n",
    "\n",
    "# Print the tibble\n",
    "sensor_summary"
   ]
  },
  {
   "cell_type": "markdown",
   "id": "c97fea3a-b1fd-4072-860b-f0f042e98ef0",
   "metadata": {
    "tags": []
   },
   "source": [
    "### 2.5. Computing our estimates"
   ]
  },
  {
   "cell_type": "markdown",
   "id": "c9f105b6-02ee-4473-84cc-5f53ec7737f7",
   "metadata": {},
   "source": [
    "After this, we compute our estimates by using the mutate function and creating a new column for the AQI estimates. The resulting data has the time (day or night) and the AQI estimator column. "
   ]
  },
  {
   "cell_type": "code",
   "execution_count": null,
   "id": "cb31194d-dc12-42e1-9c57-10bd52ca1262",
   "metadata": {},
   "outputs": [],
   "source": [
    "set.seed(1111)\n",
    "\n",
    "\n",
    "air_quality_cleaned <- air_quality_cleaned %>%\n",
    "  mutate(Time = as.POSIXct(Time, format = \"%H:%M:%S\"),  # Convert Time to POSIXct format\n",
    "         Day_Night = ifelse(hour(Time) < 12, \"Day\", \"Night\"),  # Create Day_Night column\n",
    "         AQI_Estimator = rowMeans(select(., PT08_S1_CO_Sensor,PT08_S2_NMHC_Sensor,PT08_S3_NOx_Sensor, PT08_S4_NO2_Sensor, PT08_S5_O3_Sensor),\n",
    "                                       na.rm = TRUE))  # Calculate mean of sensor values\n",
    "\n",
    "# Select only the Day_Night column and the new Mean_Sensor_Values column\n",
    "air_quality_final <- air_quality_cleaned %>%\n",
    "  select(Day_Night, AQI_Estimator) |>\n",
    "  filter(!is.na(AQI_Estimator))\n",
    "\n",
    "head(air_quality_final)"
   ]
  },
  {
   "cell_type": "markdown",
   "id": "3789bd64-d236-42bc-bf66-820c39c0e200",
   "metadata": {},
   "source": [
    "Based on the previous dataset, we then plot the AQI estimator values according to the time, using the built in functions (ggplot, geom_boxplot) to build a boxplot of the data. "
   ]
  },
  {
   "cell_type": "code",
   "execution_count": null,
   "id": "28cc7a95-395a-42ca-bb29-b744a17fc358",
   "metadata": {},
   "outputs": [],
   "source": [
    "set.seed(1111)\n",
    "\n",
    "print(\"Plot 3: Box Plot of AQI Estimator Values by Day and Night\")\n",
    "\n",
    "# Create a box plot\n",
    "boxplot <- ggplot(air_quality_final, aes(x = Day_Night, y = AQI_Estimator)) +\n",
    "  geom_boxplot(fill = \"skyblue\", color = \"black\", outlier.shape = NA) +\n",
    "  labs(title = \"Box Plot of AQI Estimator Values by Day and Night\",\n",
    "       x = \"Day/Night\",\n",
    "       y = \"Mean Sensor Values\") +\n",
    "  theme_minimal()\n",
    "\n",
    "print(boxplot)"
   ]
  },
  {
   "cell_type": "markdown",
   "id": "9f546037-1714-4772-9074-2c633b334d93",
   "metadata": {},
   "source": [
    "Similar to what we did earlier, we now create a dataset for the summary statistics, except this time we use the AQI estimator values corresponding to the time (day or night). "
   ]
  },
  {
   "cell_type": "code",
   "execution_count": null,
   "id": "a84ac483-4985-4d3e-a36d-08e8d45526c3",
   "metadata": {},
   "outputs": [],
   "source": [
    "set.seed(1111)\n",
    "\n",
    "\n",
    "print(\"Table 2: Summary Statistics of AQI Estimator by Day and Night\")\n",
    "\n",
    "\n",
    "# Group the data by \"Day_Night\" and calculate the mean, median, standard deviation, and quartiles of \"AQI_Estimator\"\n",
    "stats_by_day_night <- air_quality_final %>%\n",
    "  group_by(Day_Night) %>%\n",
    "  summarize(\n",
    "    AQI_Estimator_Mean = mean(AQI_Estimator, na.rm = TRUE),\n",
    "    AQI_Estimator_Median = median(AQI_Estimator, na.rm = TRUE),\n",
    "    AQI_Estimator_SD = sd(AQI_Estimator, na.rm = TRUE),\n",
    "    AQI_Estimator_Q1 = quantile(AQI_Estimator, 0.25, na.rm = TRUE),\n",
    "    AQI_Estimator_Q3 = quantile(AQI_Estimator, 0.75, na.rm = TRUE)\n",
    "  )\n",
    "\n",
    "# Print the tibble\n",
    "stats_by_day_night"
   ]
  },
  {
   "cell_type": "markdown",
   "id": "18db44ac-e794-44eb-a13d-d6addc5520f0",
   "metadata": {},
   "source": [
    "The next plot we create is a distribution of the AQI estimator values according to the time. We do this by first calculating the mean of day and night, respectively, and then using the built in functions (ggplot, geom_histogram, geom_vline) to create two histograms (for different chemicals) with marked values for the mean values of each. "
   ]
  },
  {
   "cell_type": "code",
   "execution_count": null,
   "id": "f9e7bd61-f261-4db1-bb14-f02744d2c813",
   "metadata": {},
   "outputs": [],
   "source": [
    "set.seed(1111)\n",
    "\n",
    "# Calculate the means for Day and Night\n",
    "mean_day <- mean(air_quality_final$AQI_Estimator[air_quality_final$Day_Night == \"Day\"], na.rm = TRUE)\n",
    "mean_night <- mean(air_quality_final$AQI_Estimator[air_quality_final$Day_Night == \"Night\"], na.rm = TRUE)\n",
    "\n",
    "print(\"Plot 4: Distribution of AQI Estimator for Day and Night\")\n",
    "\n",
    "## Plot for the Distribution of AQI Estimator for Day and Night\n",
    "ggplot(air_quality_final, aes(x = AQI_Estimator, fill = Day_Night)) +\n",
    "  geom_histogram(binwidth = 50, position = \"dodge\", alpha = 0.7) +\n",
    "  geom_vline(xintercept = mean_day, linetype = \"dashed\", color = \"navyblue\", size = 1) +\n",
    "  geom_vline(xintercept = mean_night, linetype = \"dashed\", color = \"springgreen3\", size = 1) +\n",
    "  labs(title = \"Distribution of AQI Estimator for Day and Night\",\n",
    "       x = \"AQI Estimator\",\n",
    "       y = \"Frequency\") +\n",
    "  scale_x_continuous(breaks = seq(0, 2500, by = 250)) +\n",
    "  scale_fill_manual(values = c(\"Day\" = \"blue\", \"Night\" = \"green\")) +\n",
    "  theme_minimal() +\n",
    "  facet_wrap(~Day_Night, ncol = 1)"
   ]
  },
  {
   "cell_type": "markdown",
   "id": "f656dc80-8759-4551-ba6c-4f9cab0786e6",
   "metadata": {},
   "source": [
    "## 3. Methods: Plan"
   ]
  },
  {
   "cell_type": "markdown",
   "id": "5c7b540c-d29b-45a5-ba0f-6c768f05b2a7",
   "metadata": {},
   "source": [
    "Our report can be considered trustworthy as it is diligently pre-processed from a reputable dataset from the UCI machine learning repository, with any missing entries removed to ensure reliable results presented as insightful plots and estimates. However, this may not be sufficient for stakeholders who require more rigorous evidence. So, we aim to complement the plots with hypothesis testing and confidence intervals to make inferences about the population parameters with a certain level of confidence.\n",
    "\n",
    "We will conduct a **hypothesis test** to compare the average sensor response between mornings and nights. The null hypothesis (H<sub>0</sub>) would be that there is no significant difference in the mean sensor response during mornings and nights, while the alternative hypothesis (H<sub>A</sub>) would be that a significant difference exists.\n",
    "\n",
    "We will also construct **confidence intervals** (using a confidence level of 95%) for the mean sensor response during mornings and nights separately, to obtain a range of plausible values for the population mean, providing a measure of uncertainty around our estimates.\n",
    "\n",
    "We expect that, on average, the air quality is worse in the mornings. Based on previous research on the topic, the highest concentrations of different pollutants occur in the morning, likely due to traffic density, road dust or temperature inversions (Chen et al., 2015).\n",
    "\n",
    "The finding of this research could have significant implications for urban planning and public health policies.\n",
    "City authorities and environmental agencies can use this information to implement targeted interventions during specific times of the day to improve air quality and protect public health.\n",
    "\n",
    "This could lead to further research on the long term health effects of exposure to poor air quality in cities: how does consistent exposure to poor air quality affect one’s long term health? Additionally, it may be interesting to explore the relationship between air quality and specific sources of pollution, such as vehicular emissions or industrial activities.\n",
    "\n",
    "In conclusion, this comprehensive report aims to shed light on the average air quality in an Italian city during mornings and nights. By incorporating hypothesis testing and confidence intervals, we can provide more robust evidence to stakeholders, facilitating informed decision-making and potential policy changes for a healthier urban environment. The research findings could lead to further investigations and have a positive impact on public health and environmental management in the long run."
   ]
  },
  {
   "cell_type": "code",
   "execution_count": null,
   "id": "f5fa2ca9-e583-4484-8b42-daf04fe5b356",
   "metadata": {},
   "outputs": [],
   "source": [
    "head(air_quality_final)"
   ]
  },
  {
   "cell_type": "markdown",
   "id": "bc962a5f-edd1-4c44-83c9-3a07a4455550",
   "metadata": {},
   "source": [
    "To begin our research, we again calculate the summary statistics for day and night, respectively. Then, we calculate the test statistic using the formula for a paired t-test. Following this, we calculate the degrees of freedom and the p-value using the pt function."
   ]
  },
  {
   "cell_type": "code",
   "execution_count": null,
   "id": "6deca8c8-05d1-4b33-81d2-cb45461d7f71",
   "metadata": {},
   "outputs": [],
   "source": [
    "# Calculate summary statistics for each Day_Night group\n",
    "air_quality_summary <- \n",
    "  air_quality_final %>% \n",
    "  filter(!is.na(AQI_Estimator)) %>% \n",
    "  group_by(Day_Night) %>% \n",
    "  summarise(sample_mean = mean(AQI_Estimator), \n",
    "            sample_var = var(AQI_Estimator),\n",
    "            sample_sd = sd(AQI_Estimator),\n",
    "            n = n())\n",
    "\n",
    "# Print the summary statistics\n",
    "head(air_quality_summary)\n",
    "\n",
    "# Calculate the t-statistic for the paired t-test\n",
    "t_statistic <- \n",
    "  (air_quality_summary$sample_mean[2] - air_quality_summary$sample_mean[1]) /\n",
    "  sqrt(air_quality_summary$sample_var[2] / air_quality_summary$n[2] +\n",
    "       air_quality_summary$sample_var[1] / air_quality_summary$n[1])\n",
    "\n",
    "# Print the calculated t-statistic\n",
    "t_statistic\n",
    "\n",
    "# Calculate the degrees of freedom approximation\n",
    "df_approx <- air_quality_summary$n[1] + air_quality_summary$n[2] - 2\n",
    "\n",
    "# Calculate the p-value using the cumulative distribution function (CDF) of the t-distribution\n",
    "p_value <- 2 * pt(abs(t_statistic), df_approx, lower.tail = FALSE)\n",
    "\n",
    "# Print the calculated p-value\n",
    "p_value\n",
    "\n",
    "\n",
    "#use qnorm to add the ci intervals"
   ]
  },
  {
   "cell_type": "markdown",
   "id": "adb6795d-c683-483b-92d3-8e772b9b5119",
   "metadata": {},
   "source": [
    "We start by subsetting the data according to the time and then conducting a two-sample t-test using the t.test function and making sure to use the tidy function to ensure a clean result. "
   ]
  },
  {
   "cell_type": "code",
   "execution_count": null,
   "id": "8b4fcefe-ac43-4534-a9ae-0d397d198b35",
   "metadata": {},
   "outputs": [],
   "source": [
    "set.seed(1111)\n",
    "\n",
    "\n",
    "# Subset the data into morning and night observations\n",
    "morning_data <- air_quality_final %>%\n",
    "  filter(Day_Night == \"Day\")\n",
    "\n",
    "night_data <- air_quality_final %>%\n",
    "  filter(Day_Night == \"Night\")\n",
    "\n",
    "\n",
    "# Perform a two-sample t-test\n",
    "t_test_result <- tidy(t.test(morning_data$AQI_Estimator, night_data$AQI_Estimator))\n",
    "\n",
    "# Print the results\n",
    "t_test_result\n",
    "\n",
    "#check the default value\n",
    "#cross check the ci \n"
   ]
  },
  {
   "cell_type": "markdown",
   "id": "45b56797-721b-43cd-b338-496e0a3b2d6a",
   "metadata": {},
   "source": [
    "After this, we calculate the mean AQI estimator value for day and night, respectively, using the group_by and summarize functions. Then using pivot_wider to separate the day and night means. We then calculate the difference, using the transmute function, between the night and day values, in that order, and pull that value. "
   ]
  },
  {
   "cell_type": "code",
   "execution_count": null,
   "id": "0ec87add-f460-4096-8d7a-4dea57700981",
   "metadata": {},
   "outputs": [],
   "source": [
    "# Calculate the mean AQI_Estimator for each Day_Night group\n",
    "obs_mean_aqi_diff <- \n",
    "    air_quality_final %>% \n",
    "    group_by(Day_Night) %>% \n",
    "    summarise(mean = mean(AQI_Estimator)) %>%\n",
    "\n",
    "    # Pivot the data to have Day and Night mean AQI in separate columns\n",
    "    pivot_wider(names_from = Day_Night, values_from = mean) %>%\n",
    "    \n",
    "    # Calculate the difference between Night and Day mean AQI\n",
    "    transmute(diff = Night - Day) %>%\n",
    "    \n",
    "    # Extract the calculated differences into a vector\n",
    "    pull(diff)\n",
    "\n",
    "# Display the calculated differences\n",
    "obs_mean_aqi_diff\n"
   ]
  },
  {
   "cell_type": "markdown",
   "id": "d8181fb3-6c20-4cec-adac-dd68a689d947",
   "metadata": {},
   "source": [
    "We create a null model for our AQI estimator values using the infer package. We specify our formula using our explanatory and response variables, and then hypothesize using the null. Lastly, we generate our reps and note the type, and lastly calculate the difference in means. "
   ]
  },
  {
   "cell_type": "code",
   "execution_count": null,
   "id": "02b4d415-a895-4725-a666-02029a15bb5f",
   "metadata": {},
   "outputs": [],
   "source": [
    "# Set the seed for reproducibility\n",
    "set.seed(1111)\n",
    "\n",
    "# Create a null model for AQI_Estimator based on Day_Night categories\n",
    "null_model_aqi <- \n",
    "    air_quality_final %>% \n",
    "    \n",
    "    # Define the formula for the null model\n",
    "    specify(formula = AQI_Estimator ~ Day_Night) %>% \n",
    "    \n",
    "    # Specify the null hypothesis as independence between variables\n",
    "    hypothesize(null = \"independence\") %>% \n",
    "    \n",
    "    # Generate permutations of the data\n",
    "    generate(reps = 1000, type = \"permute\") %>% \n",
    "    \n",
    "    # Calculate the statistic (difference in means) for each permutation\n",
    "    calculate(stat = \"diff in means\", order = c(\"Night\", \"Day\"))\n",
    "\n",
    "# Display the first few rows of the calculated null model statistics\n",
    "head(null_model_aqi)\n"
   ]
  },
  {
   "cell_type": "markdown",
   "id": "43a617e8-d67c-4760-99e9-496c025589bb",
   "metadata": {},
   "source": [
    "To compare different methods (bootstrap vs asymptotic), here we calculate the confidence interval for the difference in AQI estimator values, using the get_confidence_interval function. We visualize the AQI differences, using the visualize function, shading the confidence interval we previously calculated."
   ]
  },
  {
   "cell_type": "code",
   "execution_count": null,
   "id": "35de8ed7-70f0-429e-bec5-5bb8c4ba803e",
   "metadata": {},
   "outputs": [],
   "source": [
    "# Calculate the confidence interval for AQI differences\n",
    "aqi_confidence_interval <- null_model_aqi %>%\n",
    "    get_confidence_interval(level = 0.95)\n",
    "\n",
    "# Display the calculated confidence interval\n",
    "aqi_confidence_interval\n",
    "\n",
    "# Visualize the results of the null model for AQI differences\n",
    "aqi_confidence_plot <- null_model_aqi %>%\n",
    "    visualize() +\n",
    "    theme_minimal() +                # Set a clean and minimal theme\n",
    "    labs(\n",
    "        title = \"Distribution of Differences in AQI Means\",\n",
    "        x = \"Difference in Mean AQI Value\",\n",
    "        y = \"Density\"\n",
    "    ) +\n",
    "    shade_confidence_interval(\n",
    "        color = \"purple\",             # Choose a color for the shaded region\n",
    "        alpha = 0.3,                   # Adjust transparency of the shaded region\n",
    "        endpoints = aqi_confidence_interval  # Use calculated confidence interval endpoints\n",
    "    )\n",
    "\n",
    "# Display the improved plot\n",
    "aqi_confidence_plot\n"
   ]
  },
  {
   "cell_type": "markdown",
   "id": "ebd2de1c-5948-4b9b-9a3c-b833fb3b7fa3",
   "metadata": {},
   "source": [
    "We visualize the results of the null model using infer’s visualize function and this time shading the p-value. We also calculate the p-value using the bootstrap distribution and the observed difference of means and display this. "
   ]
  },
  {
   "cell_type": "code",
   "execution_count": null,
   "id": "b0f99d7a-aedd-4bcf-92d5-bf1b6ad1cc54",
   "metadata": {},
   "outputs": [],
   "source": [
    "# Visualize the results of the null model for AQI differences\n",
    "aqi_result_plot <- null_model_aqi %>%\n",
    "    visualize() +\n",
    "    theme_minimal() +                # Set a clean and minimal theme\n",
    "    labs(\n",
    "        title = \"Distribution of Differences in AQI Means\",\n",
    "        x = \"Difference in Mean AQI Value\",\n",
    "        y = \"Density\"\n",
    "    ) +\n",
    "    shade_p_value(\n",
    "        obs_stat = obs_mean_aqi_diff,\n",
    "        direction = \"both\",\n",
    "        color = \"purple\",             # Choose a distinct color for the shaded region\n",
    "        alpha = 0.3                   # Adjust transparency of the shaded region\n",
    "    )\n",
    "\n",
    "# Display the improved plot\n",
    "aqi_result_plot\n",
    "\n",
    "\n",
    "# Calculate the p-value using the bootstrap distribution of null model statistics\n",
    "p_value_bootstrap <- null_model_aqi %>%\n",
    "    get_p_value(obs_stat = obs_mean_aqi_diff, direction = \"both\")\n",
    "\n",
    "# Display the calculated p-value\n",
    "p_value_bootstrap\n"
   ]
  },
  {
   "cell_type": "markdown",
   "id": "57e5c48a-5138-4771-b7ba-98580e9e8677",
   "metadata": {},
   "source": [
    "## Hypothesis Test #2: Difference in Medians"
   ]
  },
  {
   "cell_type": "code",
   "execution_count": null,
   "id": "5145a08b-cbeb-40e9-afd7-6b94cf8d22b8",
   "metadata": {},
   "outputs": [],
   "source": [
    "## Printing the first few observations of the dataset\n",
    "head(air_quality_final)"
   ]
  },
  {
   "cell_type": "code",
   "execution_count": null,
   "id": "2f5f2dcf-ee3b-4c98-b4c5-2291361f3758",
   "metadata": {},
   "outputs": [],
   "source": [
    "# Calculate the median AQI_Estimator for each Day_Night group\n",
    "obs_median_aqi_diff <- \n",
    "    air_quality_final %>% \n",
    "    group_by(Day_Night) %>% \n",
    "    summarise(median = median(AQI_Estimator)) %>%\n",
    "\n",
    "    # Pivot the data to have Day and Night median AQI in separate columns\n",
    "    pivot_wider(names_from = Day_Night, values_from = median) %>%\n",
    "    \n",
    "    # Calculate the difference between Night and Day median AQI\n",
    "    transmute(diff = Night - Day) %>%\n",
    "    \n",
    "    # Extract the calculated differences into a vector\n",
    "    pull(diff)\n",
    "\n",
    "# Display the calculated differences\n",
    "obs_median_aqi_diff"
   ]
  },
  {
   "cell_type": "markdown",
   "id": "ea9d4a66-b398-4934-ad91-918b868a0e06",
   "metadata": {},
   "source": [
    "**Summary of Calculated Median AQI Difference:**\n",
    "\n",
    "In the given dataset, the median Air Quality Index (AQI) difference between \"Night\" and \"Day\" categories was calculated. The median AQI during the night was found to be approximately 109.6 units higher than during the day. This indicates a potential pattern of higher AQI levels at night compared to daytime conditions."
   ]
  },
  {
   "cell_type": "code",
   "execution_count": null,
   "id": "3c79c117-97d9-42df-a804-0e70f94d8635",
   "metadata": {},
   "outputs": [],
   "source": [
    "# Create a null model for AQI_Estimator based on Day_Night categories\n",
    "null_model_median_aqi <- \n",
    "    air_quality_final %>% \n",
    "    \n",
    "    # Define the formula for the null model\n",
    "    specify(formula = AQI_Estimator ~ Day_Night) %>% \n",
    "    \n",
    "    # Specify the null hypothesis as independence between variables\n",
    "    hypothesize(null = \"independence\") %>% \n",
    "    \n",
    "    # Generate permutations of the data\n",
    "    generate(reps = 1000, type = \"permute\") %>% \n",
    "    \n",
    "    # Calculate the statistic (difference in medians) for each permutation\n",
    "    calculate(stat = \"diff in medians\", order = c(\"Night\", \"Day\"))\n",
    "\n",
    "# Display the first few rows of the calculated null model statistics\n",
    "head(null_model_median_aqi)\n"
   ]
  },
  {
   "cell_type": "code",
   "execution_count": null,
   "id": "de4605eb-d046-4960-872f-74ecf8c3bfbb",
   "metadata": {},
   "outputs": [],
   "source": [
    "# Calculate the confidence interval for AQI differences\n",
    "aqi_median_confidence_interval <- null_model_median_aqi %>%\n",
    "    get_confidence_interval(level = 0.95)\n",
    "\n",
    "# Display the calculated confidence interval\n",
    "aqi_median_confidence_interval\n",
    "\n",
    "# Visualize the results of the null model for AQI differences\n",
    "aqi_median_confidence_plot <- null_model_median_aqi %>%\n",
    "    visualize() +\n",
    "    theme_minimal() +                # Set a clean and minimal theme\n",
    "    labs(\n",
    "        title = \"Distribution of Differences in AQI Medians\",\n",
    "        x = \"Difference in Median AQI Value\",\n",
    "        y = \"Density\"\n",
    "    ) +\n",
    "    shade_confidence_interval(\n",
    "        color = \"purple\",             # Choose a color for the shaded region\n",
    "        alpha = 0.3,                   # Adjust transparency of the shaded region\n",
    "        endpoints = aqi_median_confidence_interval  # Use calculated confidence interval endpoints\n",
    "    )\n",
    "\n",
    "# Display the improved plot\n",
    "aqi_median_confidence_plot"
   ]
  },
  {
   "cell_type": "markdown",
   "id": "bb5b55d4-e95c-4b36-97d8-d52a11ad0809",
   "metadata": {},
   "source": [
    "**Summary of Confidence Interval Calculation for AQI Differences:**\n",
    "\n",
    "A 95% confidence interval was calculated for the differences in AQI medians between the \"Night\" and \"Day\" categories. The confidence interval ranges from approximately -32.32 to 29.13 AQI units. This interval suggests that with 95% confidence, the true difference in AQI medians between \"Night\" and \"Day\" falls within this range. This indicates that there is no clear evidence of a significant difference in AQI medians between the two time categories, as the confidence interval spans both positive and negative values."
   ]
  },
  {
   "cell_type": "code",
   "execution_count": null,
   "id": "ed9e4f4a-a57c-4cbe-9244-df556b3995d1",
   "metadata": {},
   "outputs": [],
   "source": [
    "# Visualize the results of the null model for AQI differences\n",
    "aqi_median_result_plot <- null_model_median_aqi %>%\n",
    "    visualize() +\n",
    "    theme_minimal() +                # Set a clean and minimal theme\n",
    "    labs(\n",
    "        title = \"Distribution of Differences in AQI Medians\",\n",
    "        x = \"Difference in Median AQI Value\",\n",
    "        y = \"Density\"\n",
    "    ) +\n",
    "    shade_p_value(\n",
    "        obs_stat = obs_mean_aqi_diff,\n",
    "        direction = \"both\",\n",
    "        color = \"purple\",             # Choose a distinct color for the shaded region\n",
    "        alpha = 0.3                   # Adjust transparency of the shaded region\n",
    "    )\n",
    "\n",
    "# Display the improved plot\n",
    "aqi_median_result_plot\n",
    "\n",
    "\n",
    "# Calculate the p-value using the bootstrap distribution of null model statistics\n",
    "p_value_median_bootstrap <- null_model_median_aqi %>%\n",
    "    get_p_value(obs_stat = obs_median_aqi_diff, direction = \"both\")\n",
    "\n",
    "# Display the calculated p-value\n",
    "p_value_median_bootstrap"
   ]
  },
  {
   "cell_type": "markdown",
   "id": "a745300a-79ea-4e9c-ab0e-2bfa3250b1da",
   "metadata": {},
   "source": [
    "**Summary of Visualization and P-value Calculation:**\n",
    "\n",
    "The distribution of differences in AQI medians between \"Night\" and \"Day\" categories was visualized using the null model results. The plot displays a density distribution, showing the variability of AQI median differences under the null hypothesis of independence. The observed median AQI difference calculated from the data was shaded in purple on the plot.\n",
    "\n",
    "The calculated p-value from the bootstrap distribution of null model statistics is 0. This extremely low p-value suggests that the observed median AQI difference of approximately 109.6 is significantly different from what would be expected under the assumption of independence. This provides strong evidence to reject the null hypothesis and suggests that there is a statistically significant difference in median AQI values between \"Night\" and \"Day\" categories."
   ]
  },
  {
   "cell_type": "markdown",
   "id": "158c0720-dd13-4708-8261-3d7a5685726b",
   "metadata": {
    "tags": []
   },
   "source": [
    "## 4. References\n",
    "\n",
    "Chen, W., Tang, H., & Zhao, H. (2015). Diurnal, weekly and monthly spatial variations of air pollutants and air  quality of Beijing. Atmospheric Environment, 119, 21-34. https://doi.org/10.1016/j.atmosenv.2015.08.040\n",
    "\n",
    "Lemeš, S. (2018). Air Quality Index (AQI) - Comparative Study and Assessment of an Appropriate Model for B&H. 12th Scientific/Research Symposium with International Participation. \n",
    "\n",
    "Trozzi, C.,  Vaccaro, R., & Crocetti, S. (1999). Air quality index and its use in Italy’s management plans. Science of the Total Environment. 235(1-3),387-389. https://doi.org/10.1016/S0048-9697(99)00242-9\n"
   ]
  }
 ],
 "metadata": {
  "kernelspec": {
   "display_name": "R",
   "language": "R",
   "name": "ir"
  },
  "language_info": {
   "codemirror_mode": "r",
   "file_extension": ".r",
   "mimetype": "text/x-r-source",
   "name": "R",
   "pygments_lexer": "r",
   "version": "4.1.3"
  }
 },
 "nbformat": 4,
 "nbformat_minor": 5
}
