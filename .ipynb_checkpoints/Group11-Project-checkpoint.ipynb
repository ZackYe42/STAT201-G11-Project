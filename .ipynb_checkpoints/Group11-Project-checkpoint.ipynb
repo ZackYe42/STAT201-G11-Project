{
 "cells": [
  {
   "cell_type": "code",
   "execution_count": 1,
   "id": "802f1fdf-53e9-401e-b0f9-5156ad97cd98",
   "metadata": {},
   "outputs": [
    {
     "name": "stderr",
     "output_type": "stream",
     "text": [
      "\n",
      "Attaching package: ‘dplyr’\n",
      "\n",
      "\n",
      "The following objects are masked from ‘package:stats’:\n",
      "\n",
      "    filter, lag\n",
      "\n",
      "\n",
      "The following objects are masked from ‘package:base’:\n",
      "\n",
      "    intersect, setdiff, setequal, union\n",
      "\n",
      "\n"
     ]
    }
   ],
   "source": [
    "library(dplyr)\n",
    "library(tidyr)"
   ]
  },
  {
   "cell_type": "code",
   "execution_count": 2,
   "id": "d3405427-4e4c-4ef9-a198-5d7311f0214e",
   "metadata": {},
   "outputs": [
    {
     "data": {
      "text/html": [
       "<table class=\"dataframe\">\n",
       "<caption>A data.frame: 6 × 17</caption>\n",
       "<thead>\n",
       "\t<tr><th></th><th scope=col>Date</th><th scope=col>Time</th><th scope=col>CO.GT.</th><th scope=col>PT08.S1.CO.</th><th scope=col>NMHC.GT.</th><th scope=col>C6H6.GT.</th><th scope=col>PT08.S2.NMHC.</th><th scope=col>NOx.GT.</th><th scope=col>PT08.S3.NOx.</th><th scope=col>NO2.GT.</th><th scope=col>PT08.S4.NO2.</th><th scope=col>PT08.S5.O3.</th><th scope=col>T</th><th scope=col>RH</th><th scope=col>AH</th><th scope=col>X</th><th scope=col>X.1</th></tr>\n",
       "\t<tr><th></th><th scope=col>&lt;chr&gt;</th><th scope=col>&lt;chr&gt;</th><th scope=col>&lt;chr&gt;</th><th scope=col>&lt;int&gt;</th><th scope=col>&lt;int&gt;</th><th scope=col>&lt;chr&gt;</th><th scope=col>&lt;int&gt;</th><th scope=col>&lt;int&gt;</th><th scope=col>&lt;int&gt;</th><th scope=col>&lt;int&gt;</th><th scope=col>&lt;int&gt;</th><th scope=col>&lt;int&gt;</th><th scope=col>&lt;chr&gt;</th><th scope=col>&lt;chr&gt;</th><th scope=col>&lt;chr&gt;</th><th scope=col>&lt;lgl&gt;</th><th scope=col>&lt;lgl&gt;</th></tr>\n",
       "</thead>\n",
       "<tbody>\n",
       "\t<tr><th scope=row>1</th><td>10/03/2004</td><td>18.00.00</td><td>2,6</td><td>1360</td><td>150</td><td>11,9</td><td>1046</td><td>166</td><td>1056</td><td>113</td><td>1692</td><td>1268</td><td>13,6</td><td>48,9</td><td>0,7578</td><td>NA</td><td>NA</td></tr>\n",
       "\t<tr><th scope=row>2</th><td>10/03/2004</td><td>19.00.00</td><td>2  </td><td>1292</td><td>112</td><td>9,4 </td><td> 955</td><td>103</td><td>1174</td><td> 92</td><td>1559</td><td> 972</td><td>13,3</td><td>47,7</td><td>0,7255</td><td>NA</td><td>NA</td></tr>\n",
       "\t<tr><th scope=row>3</th><td>10/03/2004</td><td>20.00.00</td><td>2,2</td><td>1402</td><td> 88</td><td>9,0 </td><td> 939</td><td>131</td><td>1140</td><td>114</td><td>1555</td><td>1074</td><td>11,9</td><td>54,0</td><td>0,7502</td><td>NA</td><td>NA</td></tr>\n",
       "\t<tr><th scope=row>4</th><td>10/03/2004</td><td>21.00.00</td><td>2,2</td><td>1376</td><td> 80</td><td>9,2 </td><td> 948</td><td>172</td><td>1092</td><td>122</td><td>1584</td><td>1203</td><td>11,0</td><td>60,0</td><td>0,7867</td><td>NA</td><td>NA</td></tr>\n",
       "\t<tr><th scope=row>5</th><td>10/03/2004</td><td>22.00.00</td><td>1,6</td><td>1272</td><td> 51</td><td>6,5 </td><td> 836</td><td>131</td><td>1205</td><td>116</td><td>1490</td><td>1110</td><td>11,2</td><td>59,6</td><td>0,7888</td><td>NA</td><td>NA</td></tr>\n",
       "\t<tr><th scope=row>6</th><td>10/03/2004</td><td>23.00.00</td><td>1,2</td><td>1197</td><td> 38</td><td>4,7 </td><td> 750</td><td> 89</td><td>1337</td><td> 96</td><td>1393</td><td> 949</td><td>11,2</td><td>59,2</td><td>0,7848</td><td>NA</td><td>NA</td></tr>\n",
       "</tbody>\n",
       "</table>\n"
      ],
      "text/latex": [
       "A data.frame: 6 × 17\n",
       "\\begin{tabular}{r|lllllllllllllllll}\n",
       "  & Date & Time & CO.GT. & PT08.S1.CO. & NMHC.GT. & C6H6.GT. & PT08.S2.NMHC. & NOx.GT. & PT08.S3.NOx. & NO2.GT. & PT08.S4.NO2. & PT08.S5.O3. & T & RH & AH & X & X.1\\\\\n",
       "  & <chr> & <chr> & <chr> & <int> & <int> & <chr> & <int> & <int> & <int> & <int> & <int> & <int> & <chr> & <chr> & <chr> & <lgl> & <lgl>\\\\\n",
       "\\hline\n",
       "\t1 & 10/03/2004 & 18.00.00 & 2,6 & 1360 & 150 & 11,9 & 1046 & 166 & 1056 & 113 & 1692 & 1268 & 13,6 & 48,9 & 0,7578 & NA & NA\\\\\n",
       "\t2 & 10/03/2004 & 19.00.00 & 2   & 1292 & 112 & 9,4  &  955 & 103 & 1174 &  92 & 1559 &  972 & 13,3 & 47,7 & 0,7255 & NA & NA\\\\\n",
       "\t3 & 10/03/2004 & 20.00.00 & 2,2 & 1402 &  88 & 9,0  &  939 & 131 & 1140 & 114 & 1555 & 1074 & 11,9 & 54,0 & 0,7502 & NA & NA\\\\\n",
       "\t4 & 10/03/2004 & 21.00.00 & 2,2 & 1376 &  80 & 9,2  &  948 & 172 & 1092 & 122 & 1584 & 1203 & 11,0 & 60,0 & 0,7867 & NA & NA\\\\\n",
       "\t5 & 10/03/2004 & 22.00.00 & 1,6 & 1272 &  51 & 6,5  &  836 & 131 & 1205 & 116 & 1490 & 1110 & 11,2 & 59,6 & 0,7888 & NA & NA\\\\\n",
       "\t6 & 10/03/2004 & 23.00.00 & 1,2 & 1197 &  38 & 4,7  &  750 &  89 & 1337 &  96 & 1393 &  949 & 11,2 & 59,2 & 0,7848 & NA & NA\\\\\n",
       "\\end{tabular}\n"
      ],
      "text/markdown": [
       "\n",
       "A data.frame: 6 × 17\n",
       "\n",
       "| <!--/--> | Date &lt;chr&gt; | Time &lt;chr&gt; | CO.GT. &lt;chr&gt; | PT08.S1.CO. &lt;int&gt; | NMHC.GT. &lt;int&gt; | C6H6.GT. &lt;chr&gt; | PT08.S2.NMHC. &lt;int&gt; | NOx.GT. &lt;int&gt; | PT08.S3.NOx. &lt;int&gt; | NO2.GT. &lt;int&gt; | PT08.S4.NO2. &lt;int&gt; | PT08.S5.O3. &lt;int&gt; | T &lt;chr&gt; | RH &lt;chr&gt; | AH &lt;chr&gt; | X &lt;lgl&gt; | X.1 &lt;lgl&gt; |\n",
       "|---|---|---|---|---|---|---|---|---|---|---|---|---|---|---|---|---|---|\n",
       "| 1 | 10/03/2004 | 18.00.00 | 2,6 | 1360 | 150 | 11,9 | 1046 | 166 | 1056 | 113 | 1692 | 1268 | 13,6 | 48,9 | 0,7578 | NA | NA |\n",
       "| 2 | 10/03/2004 | 19.00.00 | 2   | 1292 | 112 | 9,4  |  955 | 103 | 1174 |  92 | 1559 |  972 | 13,3 | 47,7 | 0,7255 | NA | NA |\n",
       "| 3 | 10/03/2004 | 20.00.00 | 2,2 | 1402 |  88 | 9,0  |  939 | 131 | 1140 | 114 | 1555 | 1074 | 11,9 | 54,0 | 0,7502 | NA | NA |\n",
       "| 4 | 10/03/2004 | 21.00.00 | 2,2 | 1376 |  80 | 9,2  |  948 | 172 | 1092 | 122 | 1584 | 1203 | 11,0 | 60,0 | 0,7867 | NA | NA |\n",
       "| 5 | 10/03/2004 | 22.00.00 | 1,6 | 1272 |  51 | 6,5  |  836 | 131 | 1205 | 116 | 1490 | 1110 | 11,2 | 59,6 | 0,7888 | NA | NA |\n",
       "| 6 | 10/03/2004 | 23.00.00 | 1,2 | 1197 |  38 | 4,7  |  750 |  89 | 1337 |  96 | 1393 |  949 | 11,2 | 59,2 | 0,7848 | NA | NA |\n",
       "\n"
      ],
      "text/plain": [
       "  Date       Time     CO.GT. PT08.S1.CO. NMHC.GT. C6H6.GT. PT08.S2.NMHC.\n",
       "1 10/03/2004 18.00.00 2,6    1360        150      11,9     1046         \n",
       "2 10/03/2004 19.00.00 2      1292        112      9,4       955         \n",
       "3 10/03/2004 20.00.00 2,2    1402         88      9,0       939         \n",
       "4 10/03/2004 21.00.00 2,2    1376         80      9,2       948         \n",
       "5 10/03/2004 22.00.00 1,6    1272         51      6,5       836         \n",
       "6 10/03/2004 23.00.00 1,2    1197         38      4,7       750         \n",
       "  NOx.GT. PT08.S3.NOx. NO2.GT. PT08.S4.NO2. PT08.S5.O3. T    RH   AH     X  X.1\n",
       "1 166     1056         113     1692         1268        13,6 48,9 0,7578 NA NA \n",
       "2 103     1174          92     1559          972        13,3 47,7 0,7255 NA NA \n",
       "3 131     1140         114     1555         1074        11,9 54,0 0,7502 NA NA \n",
       "4 172     1092         122     1584         1203        11,0 60,0 0,7867 NA NA \n",
       "5 131     1205         116     1490         1110        11,2 59,6 0,7888 NA NA \n",
       "6  89     1337          96     1393          949        11,2 59,2 0,7848 NA NA "
      ]
     },
     "metadata": {},
     "output_type": "display_data"
    }
   ],
   "source": [
    "# URL of the dataset on UCI Machine Learning Repository\n",
    "url <- \"https://archive.ics.uci.edu/static/public/360/air+quality.zip\"\n",
    "\n",
    "# Download the zip file and extract it\n",
    "download.file(url, destfile = \"air_quality.zip\")\n",
    "unzip(\"air_quality.zip\")\n",
    "\n",
    "# Read the dataset into R\n",
    "air_quality <- read.csv(\"AirQualityUCI.csv\", sep = \";\", header = TRUE, na.strings = \"-200\")\n",
    "\n",
    "# View the first few rows of the dataset\n",
    "head(air_quality)\n"
   ]
  },
  {
   "cell_type": "code",
   "execution_count": 3,
   "id": "00968195-8498-4889-b6d4-da0234411afc",
   "metadata": {},
   "outputs": [
    {
     "data": {
      "text/html": [
       "<table class=\"dataframe\">\n",
       "<caption>A data.frame: 6 × 15</caption>\n",
       "<thead>\n",
       "\t<tr><th></th><th scope=col>Date</th><th scope=col>Time</th><th scope=col>CO.GT.</th><th scope=col>PT08.S1.CO.</th><th scope=col>NMHC.GT.</th><th scope=col>C6H6.GT.</th><th scope=col>PT08.S2.NMHC.</th><th scope=col>NOx.GT.</th><th scope=col>PT08.S3.NOx.</th><th scope=col>NO2.GT.</th><th scope=col>PT08.S4.NO2.</th><th scope=col>PT08.S5.O3.</th><th scope=col>T</th><th scope=col>RH</th><th scope=col>AH</th></tr>\n",
       "\t<tr><th></th><th scope=col>&lt;date&gt;</th><th scope=col>&lt;dttm&gt;</th><th scope=col>&lt;dbl&gt;</th><th scope=col>&lt;dbl&gt;</th><th scope=col>&lt;dbl&gt;</th><th scope=col>&lt;dbl&gt;</th><th scope=col>&lt;dbl&gt;</th><th scope=col>&lt;dbl&gt;</th><th scope=col>&lt;dbl&gt;</th><th scope=col>&lt;dbl&gt;</th><th scope=col>&lt;dbl&gt;</th><th scope=col>&lt;dbl&gt;</th><th scope=col>&lt;dbl&gt;</th><th scope=col>&lt;dbl&gt;</th><th scope=col>&lt;dbl&gt;</th></tr>\n",
       "</thead>\n",
       "<tbody>\n",
       "\t<tr><th scope=row>1</th><td>2004-03-10</td><td>2023-07-29 18:00:00</td><td>2.6</td><td>1360</td><td>150</td><td>11.9</td><td>1046</td><td>166</td><td>1056</td><td>113</td><td>1692</td><td>1268</td><td>13.6</td><td>48.9</td><td>0.7578</td></tr>\n",
       "\t<tr><th scope=row>2</th><td>2004-03-10</td><td>2023-07-29 19:00:00</td><td>2.0</td><td>1292</td><td>112</td><td> 9.4</td><td> 955</td><td>103</td><td>1174</td><td> 92</td><td>1559</td><td> 972</td><td>13.3</td><td>47.7</td><td>0.7255</td></tr>\n",
       "\t<tr><th scope=row>3</th><td>2004-03-10</td><td>2023-07-29 20:00:00</td><td>2.2</td><td>1402</td><td> 88</td><td> 9.0</td><td> 939</td><td>131</td><td>1140</td><td>114</td><td>1555</td><td>1074</td><td>11.9</td><td>54.0</td><td>0.7502</td></tr>\n",
       "\t<tr><th scope=row>4</th><td>2004-03-10</td><td>2023-07-29 21:00:00</td><td>2.2</td><td>1376</td><td> 80</td><td> 9.2</td><td> 948</td><td>172</td><td>1092</td><td>122</td><td>1584</td><td>1203</td><td>11.0</td><td>60.0</td><td>0.7867</td></tr>\n",
       "\t<tr><th scope=row>5</th><td>2004-03-10</td><td>2023-07-29 22:00:00</td><td>1.6</td><td>1272</td><td> 51</td><td> 6.5</td><td> 836</td><td>131</td><td>1205</td><td>116</td><td>1490</td><td>1110</td><td>11.2</td><td>59.6</td><td>0.7888</td></tr>\n",
       "\t<tr><th scope=row>6</th><td>2004-03-10</td><td>2023-07-29 23:00:00</td><td>1.2</td><td>1197</td><td> 38</td><td> 4.7</td><td> 750</td><td> 89</td><td>1337</td><td> 96</td><td>1393</td><td> 949</td><td>11.2</td><td>59.2</td><td>0.7848</td></tr>\n",
       "</tbody>\n",
       "</table>\n"
      ],
      "text/latex": [
       "A data.frame: 6 × 15\n",
       "\\begin{tabular}{r|lllllllllllllll}\n",
       "  & Date & Time & CO.GT. & PT08.S1.CO. & NMHC.GT. & C6H6.GT. & PT08.S2.NMHC. & NOx.GT. & PT08.S3.NOx. & NO2.GT. & PT08.S4.NO2. & PT08.S5.O3. & T & RH & AH\\\\\n",
       "  & <date> & <dttm> & <dbl> & <dbl> & <dbl> & <dbl> & <dbl> & <dbl> & <dbl> & <dbl> & <dbl> & <dbl> & <dbl> & <dbl> & <dbl>\\\\\n",
       "\\hline\n",
       "\t1 & 2004-03-10 & 2023-07-29 18:00:00 & 2.6 & 1360 & 150 & 11.9 & 1046 & 166 & 1056 & 113 & 1692 & 1268 & 13.6 & 48.9 & 0.7578\\\\\n",
       "\t2 & 2004-03-10 & 2023-07-29 19:00:00 & 2.0 & 1292 & 112 &  9.4 &  955 & 103 & 1174 &  92 & 1559 &  972 & 13.3 & 47.7 & 0.7255\\\\\n",
       "\t3 & 2004-03-10 & 2023-07-29 20:00:00 & 2.2 & 1402 &  88 &  9.0 &  939 & 131 & 1140 & 114 & 1555 & 1074 & 11.9 & 54.0 & 0.7502\\\\\n",
       "\t4 & 2004-03-10 & 2023-07-29 21:00:00 & 2.2 & 1376 &  80 &  9.2 &  948 & 172 & 1092 & 122 & 1584 & 1203 & 11.0 & 60.0 & 0.7867\\\\\n",
       "\t5 & 2004-03-10 & 2023-07-29 22:00:00 & 1.6 & 1272 &  51 &  6.5 &  836 & 131 & 1205 & 116 & 1490 & 1110 & 11.2 & 59.6 & 0.7888\\\\\n",
       "\t6 & 2004-03-10 & 2023-07-29 23:00:00 & 1.2 & 1197 &  38 &  4.7 &  750 &  89 & 1337 &  96 & 1393 &  949 & 11.2 & 59.2 & 0.7848\\\\\n",
       "\\end{tabular}\n"
      ],
      "text/markdown": [
       "\n",
       "A data.frame: 6 × 15\n",
       "\n",
       "| <!--/--> | Date &lt;date&gt; | Time &lt;dttm&gt; | CO.GT. &lt;dbl&gt; | PT08.S1.CO. &lt;dbl&gt; | NMHC.GT. &lt;dbl&gt; | C6H6.GT. &lt;dbl&gt; | PT08.S2.NMHC. &lt;dbl&gt; | NOx.GT. &lt;dbl&gt; | PT08.S3.NOx. &lt;dbl&gt; | NO2.GT. &lt;dbl&gt; | PT08.S4.NO2. &lt;dbl&gt; | PT08.S5.O3. &lt;dbl&gt; | T &lt;dbl&gt; | RH &lt;dbl&gt; | AH &lt;dbl&gt; |\n",
       "|---|---|---|---|---|---|---|---|---|---|---|---|---|---|---|---|\n",
       "| 1 | 2004-03-10 | 2023-07-29 18:00:00 | 2.6 | 1360 | 150 | 11.9 | 1046 | 166 | 1056 | 113 | 1692 | 1268 | 13.6 | 48.9 | 0.7578 |\n",
       "| 2 | 2004-03-10 | 2023-07-29 19:00:00 | 2.0 | 1292 | 112 |  9.4 |  955 | 103 | 1174 |  92 | 1559 |  972 | 13.3 | 47.7 | 0.7255 |\n",
       "| 3 | 2004-03-10 | 2023-07-29 20:00:00 | 2.2 | 1402 |  88 |  9.0 |  939 | 131 | 1140 | 114 | 1555 | 1074 | 11.9 | 54.0 | 0.7502 |\n",
       "| 4 | 2004-03-10 | 2023-07-29 21:00:00 | 2.2 | 1376 |  80 |  9.2 |  948 | 172 | 1092 | 122 | 1584 | 1203 | 11.0 | 60.0 | 0.7867 |\n",
       "| 5 | 2004-03-10 | 2023-07-29 22:00:00 | 1.6 | 1272 |  51 |  6.5 |  836 | 131 | 1205 | 116 | 1490 | 1110 | 11.2 | 59.6 | 0.7888 |\n",
       "| 6 | 2004-03-10 | 2023-07-29 23:00:00 | 1.2 | 1197 |  38 |  4.7 |  750 |  89 | 1337 |  96 | 1393 |  949 | 11.2 | 59.2 | 0.7848 |\n",
       "\n"
      ],
      "text/plain": [
       "  Date       Time                CO.GT. PT08.S1.CO. NMHC.GT. C6H6.GT.\n",
       "1 2004-03-10 2023-07-29 18:00:00 2.6    1360        150      11.9    \n",
       "2 2004-03-10 2023-07-29 19:00:00 2.0    1292        112       9.4    \n",
       "3 2004-03-10 2023-07-29 20:00:00 2.2    1402         88       9.0    \n",
       "4 2004-03-10 2023-07-29 21:00:00 2.2    1376         80       9.2    \n",
       "5 2004-03-10 2023-07-29 22:00:00 1.6    1272         51       6.5    \n",
       "6 2004-03-10 2023-07-29 23:00:00 1.2    1197         38       4.7    \n",
       "  PT08.S2.NMHC. NOx.GT. PT08.S3.NOx. NO2.GT. PT08.S4.NO2. PT08.S5.O3. T    RH  \n",
       "1 1046          166     1056         113     1692         1268        13.6 48.9\n",
       "2  955          103     1174          92     1559          972        13.3 47.7\n",
       "3  939          131     1140         114     1555         1074        11.9 54.0\n",
       "4  948          172     1092         122     1584         1203        11.0 60.0\n",
       "5  836          131     1205         116     1490         1110        11.2 59.6\n",
       "6  750           89     1337          96     1393          949        11.2 59.2\n",
       "  AH    \n",
       "1 0.7578\n",
       "2 0.7255\n",
       "3 0.7502\n",
       "4 0.7867\n",
       "5 0.7888\n",
       "6 0.7848"
      ]
     },
     "metadata": {},
     "output_type": "display_data"
    }
   ],
   "source": [
    "# Clean the data: Convert commas to dots for numeric columns, remove unwanted columns (X, X.1), and remove NA columns\n",
    "air_quality_cleaned <- air_quality |>\n",
    "  mutate_at(vars(-Date, -Time), ~as.numeric(gsub(\",\", \".\", .))) |>\n",
    "  select(-X, -X.1)\n",
    "\n",
    "# Convert Date and Time columns to proper formats\n",
    "air_quality_cleaned$Date <- as.Date(air_quality_cleaned$Date, format = \"%d/%m/%Y\")\n",
    "air_quality_cleaned$Time <- as.POSIXct(air_quality_cleaned$Time, format = \"%H.%M.%S\")\n",
    "\n",
    "head(air_quality_cleaned)\n"
   ]
  },
  {
   "cell_type": "code",
   "execution_count": 5,
   "id": "b34431e5-ae69-4862-a371-a08056420d5b",
   "metadata": {},
   "outputs": [],
   "source": [
    "# Rename the column names to more descriptive names\n",
    "col_names <- c(\"Date\", \"Time\", \"CO_Concentration\", \"PT08_S1_CO_Sensor\", \"NMHC_Concentration\",\n",
    "               \"C6H6_Concentration\", \"PT08_S2_NMHC_Sensor\", \"NOx_Concentration\", \"PT08_S3_NOx_Sensor\",\n",
    "               \"NO2_Concentration\", \"PT08_S4_NO2_Sensor\", \"PT08_S5_O3_Sensor\", \"Temperature\", \"Relative_Humidity\", \"Absolute_Humidity\")\n",
    "\n",
    "colnames(air_quality_cleaned) <- col_names\n"
   ]
  },
  {
   "cell_type": "code",
   "execution_count": 6,
   "id": "29fe6583-1733-44ab-b48f-d16d97af6ac5",
   "metadata": {},
   "outputs": [
    {
     "data": {
      "text/html": [
       "<table class=\"dataframe\">\n",
       "<caption>A data.frame: 6 × 15</caption>\n",
       "<thead>\n",
       "\t<tr><th></th><th scope=col>Date</th><th scope=col>Time</th><th scope=col>CO_Concentration</th><th scope=col>PT08_S1_CO_Sensor</th><th scope=col>NMHC_Concentration</th><th scope=col>C6H6_Concentration</th><th scope=col>PT08_S2_NMHC_Sensor</th><th scope=col>NOx_Concentration</th><th scope=col>PT08_S3_NOx_Sensor</th><th scope=col>NO2_Concentration</th><th scope=col>PT08_S4_NO2_Sensor</th><th scope=col>PT08_S5_O3_Sensor</th><th scope=col>Temperature</th><th scope=col>Relative_Humidity</th><th scope=col>Absolute_Humidity</th></tr>\n",
       "\t<tr><th></th><th scope=col>&lt;date&gt;</th><th scope=col>&lt;dttm&gt;</th><th scope=col>&lt;dbl&gt;</th><th scope=col>&lt;dbl&gt;</th><th scope=col>&lt;dbl&gt;</th><th scope=col>&lt;dbl&gt;</th><th scope=col>&lt;dbl&gt;</th><th scope=col>&lt;dbl&gt;</th><th scope=col>&lt;dbl&gt;</th><th scope=col>&lt;dbl&gt;</th><th scope=col>&lt;dbl&gt;</th><th scope=col>&lt;dbl&gt;</th><th scope=col>&lt;dbl&gt;</th><th scope=col>&lt;dbl&gt;</th><th scope=col>&lt;dbl&gt;</th></tr>\n",
       "</thead>\n",
       "<tbody>\n",
       "\t<tr><th scope=row>1</th><td>2004-03-10</td><td>2023-07-29 18:00:00</td><td>2.6</td><td>1360</td><td>150</td><td>11.9</td><td>1046</td><td>166</td><td>1056</td><td>113</td><td>1692</td><td>1268</td><td>13.6</td><td>48.9</td><td>0.7578</td></tr>\n",
       "\t<tr><th scope=row>2</th><td>2004-03-10</td><td>2023-07-29 19:00:00</td><td>2.0</td><td>1292</td><td>112</td><td> 9.4</td><td> 955</td><td>103</td><td>1174</td><td> 92</td><td>1559</td><td> 972</td><td>13.3</td><td>47.7</td><td>0.7255</td></tr>\n",
       "\t<tr><th scope=row>3</th><td>2004-03-10</td><td>2023-07-29 20:00:00</td><td>2.2</td><td>1402</td><td> 88</td><td> 9.0</td><td> 939</td><td>131</td><td>1140</td><td>114</td><td>1555</td><td>1074</td><td>11.9</td><td>54.0</td><td>0.7502</td></tr>\n",
       "\t<tr><th scope=row>4</th><td>2004-03-10</td><td>2023-07-29 21:00:00</td><td>2.2</td><td>1376</td><td> 80</td><td> 9.2</td><td> 948</td><td>172</td><td>1092</td><td>122</td><td>1584</td><td>1203</td><td>11.0</td><td>60.0</td><td>0.7867</td></tr>\n",
       "\t<tr><th scope=row>5</th><td>2004-03-10</td><td>2023-07-29 22:00:00</td><td>1.6</td><td>1272</td><td> 51</td><td> 6.5</td><td> 836</td><td>131</td><td>1205</td><td>116</td><td>1490</td><td>1110</td><td>11.2</td><td>59.6</td><td>0.7888</td></tr>\n",
       "\t<tr><th scope=row>6</th><td>2004-03-10</td><td>2023-07-29 23:00:00</td><td>1.2</td><td>1197</td><td> 38</td><td> 4.7</td><td> 750</td><td> 89</td><td>1337</td><td> 96</td><td>1393</td><td> 949</td><td>11.2</td><td>59.2</td><td>0.7848</td></tr>\n",
       "</tbody>\n",
       "</table>\n"
      ],
      "text/latex": [
       "A data.frame: 6 × 15\n",
       "\\begin{tabular}{r|lllllllllllllll}\n",
       "  & Date & Time & CO\\_Concentration & PT08\\_S1\\_CO\\_Sensor & NMHC\\_Concentration & C6H6\\_Concentration & PT08\\_S2\\_NMHC\\_Sensor & NOx\\_Concentration & PT08\\_S3\\_NOx\\_Sensor & NO2\\_Concentration & PT08\\_S4\\_NO2\\_Sensor & PT08\\_S5\\_O3\\_Sensor & Temperature & Relative\\_Humidity & Absolute\\_Humidity\\\\\n",
       "  & <date> & <dttm> & <dbl> & <dbl> & <dbl> & <dbl> & <dbl> & <dbl> & <dbl> & <dbl> & <dbl> & <dbl> & <dbl> & <dbl> & <dbl>\\\\\n",
       "\\hline\n",
       "\t1 & 2004-03-10 & 2023-07-29 18:00:00 & 2.6 & 1360 & 150 & 11.9 & 1046 & 166 & 1056 & 113 & 1692 & 1268 & 13.6 & 48.9 & 0.7578\\\\\n",
       "\t2 & 2004-03-10 & 2023-07-29 19:00:00 & 2.0 & 1292 & 112 &  9.4 &  955 & 103 & 1174 &  92 & 1559 &  972 & 13.3 & 47.7 & 0.7255\\\\\n",
       "\t3 & 2004-03-10 & 2023-07-29 20:00:00 & 2.2 & 1402 &  88 &  9.0 &  939 & 131 & 1140 & 114 & 1555 & 1074 & 11.9 & 54.0 & 0.7502\\\\\n",
       "\t4 & 2004-03-10 & 2023-07-29 21:00:00 & 2.2 & 1376 &  80 &  9.2 &  948 & 172 & 1092 & 122 & 1584 & 1203 & 11.0 & 60.0 & 0.7867\\\\\n",
       "\t5 & 2004-03-10 & 2023-07-29 22:00:00 & 1.6 & 1272 &  51 &  6.5 &  836 & 131 & 1205 & 116 & 1490 & 1110 & 11.2 & 59.6 & 0.7888\\\\\n",
       "\t6 & 2004-03-10 & 2023-07-29 23:00:00 & 1.2 & 1197 &  38 &  4.7 &  750 &  89 & 1337 &  96 & 1393 &  949 & 11.2 & 59.2 & 0.7848\\\\\n",
       "\\end{tabular}\n"
      ],
      "text/markdown": [
       "\n",
       "A data.frame: 6 × 15\n",
       "\n",
       "| <!--/--> | Date &lt;date&gt; | Time &lt;dttm&gt; | CO_Concentration &lt;dbl&gt; | PT08_S1_CO_Sensor &lt;dbl&gt; | NMHC_Concentration &lt;dbl&gt; | C6H6_Concentration &lt;dbl&gt; | PT08_S2_NMHC_Sensor &lt;dbl&gt; | NOx_Concentration &lt;dbl&gt; | PT08_S3_NOx_Sensor &lt;dbl&gt; | NO2_Concentration &lt;dbl&gt; | PT08_S4_NO2_Sensor &lt;dbl&gt; | PT08_S5_O3_Sensor &lt;dbl&gt; | Temperature &lt;dbl&gt; | Relative_Humidity &lt;dbl&gt; | Absolute_Humidity &lt;dbl&gt; |\n",
       "|---|---|---|---|---|---|---|---|---|---|---|---|---|---|---|---|\n",
       "| 1 | 2004-03-10 | 2023-07-29 18:00:00 | 2.6 | 1360 | 150 | 11.9 | 1046 | 166 | 1056 | 113 | 1692 | 1268 | 13.6 | 48.9 | 0.7578 |\n",
       "| 2 | 2004-03-10 | 2023-07-29 19:00:00 | 2.0 | 1292 | 112 |  9.4 |  955 | 103 | 1174 |  92 | 1559 |  972 | 13.3 | 47.7 | 0.7255 |\n",
       "| 3 | 2004-03-10 | 2023-07-29 20:00:00 | 2.2 | 1402 |  88 |  9.0 |  939 | 131 | 1140 | 114 | 1555 | 1074 | 11.9 | 54.0 | 0.7502 |\n",
       "| 4 | 2004-03-10 | 2023-07-29 21:00:00 | 2.2 | 1376 |  80 |  9.2 |  948 | 172 | 1092 | 122 | 1584 | 1203 | 11.0 | 60.0 | 0.7867 |\n",
       "| 5 | 2004-03-10 | 2023-07-29 22:00:00 | 1.6 | 1272 |  51 |  6.5 |  836 | 131 | 1205 | 116 | 1490 | 1110 | 11.2 | 59.6 | 0.7888 |\n",
       "| 6 | 2004-03-10 | 2023-07-29 23:00:00 | 1.2 | 1197 |  38 |  4.7 |  750 |  89 | 1337 |  96 | 1393 |  949 | 11.2 | 59.2 | 0.7848 |\n",
       "\n"
      ],
      "text/plain": [
       "  Date       Time                CO_Concentration PT08_S1_CO_Sensor\n",
       "1 2004-03-10 2023-07-29 18:00:00 2.6              1360             \n",
       "2 2004-03-10 2023-07-29 19:00:00 2.0              1292             \n",
       "3 2004-03-10 2023-07-29 20:00:00 2.2              1402             \n",
       "4 2004-03-10 2023-07-29 21:00:00 2.2              1376             \n",
       "5 2004-03-10 2023-07-29 22:00:00 1.6              1272             \n",
       "6 2004-03-10 2023-07-29 23:00:00 1.2              1197             \n",
       "  NMHC_Concentration C6H6_Concentration PT08_S2_NMHC_Sensor NOx_Concentration\n",
       "1 150                11.9               1046                166              \n",
       "2 112                 9.4                955                103              \n",
       "3  88                 9.0                939                131              \n",
       "4  80                 9.2                948                172              \n",
       "5  51                 6.5                836                131              \n",
       "6  38                 4.7                750                 89              \n",
       "  PT08_S3_NOx_Sensor NO2_Concentration PT08_S4_NO2_Sensor PT08_S5_O3_Sensor\n",
       "1 1056               113               1692               1268             \n",
       "2 1174                92               1559                972             \n",
       "3 1140               114               1555               1074             \n",
       "4 1092               122               1584               1203             \n",
       "5 1205               116               1490               1110             \n",
       "6 1337                96               1393                949             \n",
       "  Temperature Relative_Humidity Absolute_Humidity\n",
       "1 13.6        48.9              0.7578           \n",
       "2 13.3        47.7              0.7255           \n",
       "3 11.9        54.0              0.7502           \n",
       "4 11.0        60.0              0.7867           \n",
       "5 11.2        59.6              0.7888           \n",
       "6 11.2        59.2              0.7848           "
      ]
     },
     "metadata": {},
     "output_type": "display_data"
    }
   ],
   "source": [
    "head(air_quality_cleaned)"
   ]
  },
  {
   "cell_type": "code",
   "execution_count": null,
   "id": "020f47dc-9332-4e82-b5f3-b6869acf6d32",
   "metadata": {},
   "outputs": [],
   "source": []
  }
 ],
 "metadata": {
  "kernelspec": {
   "display_name": "R",
   "language": "R",
   "name": "ir"
  },
  "language_info": {
   "codemirror_mode": "r",
   "file_extension": ".r",
   "mimetype": "text/x-r-source",
   "name": "R",
   "pygments_lexer": "r",
   "version": "4.1.3"
  }
 },
 "nbformat": 4,
 "nbformat_minor": 5
}
